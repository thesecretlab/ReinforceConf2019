{
  "nbformat": 4,
  "nbformat_minor": 0,
  "metadata": {
    "colab": {
      "name": "NSTDemo.ipynb",
      "version": "0.3.2",
      "provenance": [],
      "collapsed_sections": []
    },
    "kernelspec": {
      "name": "python2",
      "display_name": "Python 2"
    },
    "accelerator": "GPU"
  },
  "cells": [
    {
      "metadata": {
        "id": "trguQO7WK1Vk",
        "colab_type": "text"
      },
      "cell_type": "markdown",
      "source": [
        "# NSTDemo Model Creation\n",
        "\n",
        "This notebook should be able to run and output a .mlmodel for use with the Neural Style Transfer demo app **NSTDemo** ([project GitHub link](https://github.com/thesecretlab/ReinforceConf2019)). It requires pre-prepared folders of images as outlined in the project README.\n",
        "\n",
        "Though it only executes a few simple command-line and python commands, it requires input to authorise Google Drive access (if required) and will take quite some time to run even on Google GPUs."
      ]
    },
    {
      "metadata": {
        "id": "Q7L-fObsPVde",
        "colab_type": "code",
        "colab": {}
      },
      "cell_type": "code",
      "source": [
        "content_directory = 'training/content/'  # The directory of many varied images to train and test the model on styling\n",
        "style_directory = 'training/style/'      # The directory of one or more images to create style models for\n",
        "output_directory = 'training/test/'      # The directory to output models and test images to (will create if not exists)\n",
        "max_iterations = 6000                    # The number of max_iterations to perform in training\n",
        "export_shape = (800, 800)                # The dimensions of images the .mlmodel will accept to style \n",
        "output_model_name = 'StyleTransferModel' # The .model and .mlmodel filename to output when complete\n",
        "testing_ratio = 0.1                      # Fraction of content images to use for model validation\n",
        "data_uploaded = False                    # False if data in Google Drive, True if data uploaded to notebook Runtime directly"
      ],
      "execution_count": 0,
      "outputs": []
    },
    {
      "metadata": {
        "id": "aioFHvBFBTC9",
        "colab_type": "text"
      },
      "cell_type": "markdown",
      "source": [
        "## Create Output Directory"
      ]
    },
    {
      "metadata": {
        "id": "U70Hw75pBQef",
        "colab_type": "code",
        "colab": {}
      },
      "cell_type": "code",
      "source": [
        "  import os\n",
        "  try:\n",
        "    os.stat(output_directory)\n",
        "  except:\n",
        "    os.mkdir(output_directory)"
      ],
      "execution_count": 0,
      "outputs": []
    },
    {
      "metadata": {
        "id": "6Dch5F70VZow",
        "colab_type": "text"
      },
      "cell_type": "markdown",
      "source": [
        "## Import Training Data\n",
        "\n",
        "Select one of the following methods."
      ]
    },
    {
      "metadata": {
        "id": "Iu9J90_MKPxB",
        "colab_type": "text"
      },
      "cell_type": "markdown",
      "source": [
        "### Navigate to Uploaded Training Data\n",
        "\n",
        "This assumes you have uploaded a **training.zip** file containing the three directories of images using the upload files feature in the left sidebar. It should be still compressed, not contain any intermediate directories and unzip into the current working directory **/content**.\n",
        "\n"
      ]
    },
    {
      "metadata": {
        "id": "Xp3mhPwHKe0t",
        "colab_type": "code",
        "colab": {}
      },
      "cell_type": "code",
      "source": [
        "if data_uploaded:\n",
        "  !unzip training.zip\n",
        "  %cd training"
      ],
      "execution_count": 0,
      "outputs": []
    },
    {
      "metadata": {
        "id": "MWLDwoXK2ExM",
        "colab_type": "text"
      },
      "cell_type": "markdown",
      "source": [
        "### Navigate to  Training Data in Google Drive\n",
        "\n",
        "\n",
        "\n",
        "---\n",
        "\n",
        "**!!! Click the link and allow permissions when prompted !!!**\n",
        "\n",
        "---\n",
        "\n",
        "This assumes you have uploaded a folder called **training** into the root of your Google Drive, containing the three directories of images. It should be uncompressed and not contain any intermediate directories."
      ]
    },
    {
      "metadata": {
        "id": "LRkWzkuY2EVz",
        "colab_type": "code",
        "colab": {}
      },
      "cell_type": "code",
      "source": [
        "if not data_uploaded:\n",
        "  from google.colab import drive\n",
        "  drive.mount('/content/drive')\n",
        "  %cd drive/My Drive"
      ],
      "execution_count": 0,
      "outputs": []
    },
    {
      "metadata": {
        "id": "OCakFoGGFAzB",
        "colab_type": "text"
      },
      "cell_type": "markdown",
      "source": [
        "## Install and Adjust Dependencies"
      ]
    },
    {
      "metadata": {
        "id": "WSSpIIgkSsYg",
        "colab_type": "code",
        "colab": {}
      },
      "cell_type": "code",
      "source": [
        "%%capture\n",
        "\n",
        "# Remove CUDA 9, install CUDA 8\n",
        "!apt-get --purge remove cuda nvidia* libnvidia-*\n",
        "!dpkg -l | grep cuda- | awk '{print $2}' | xargs -n1 dpkg --purge\n",
        "!apt-get remove cuda-*\n",
        "!apt autoremove\n",
        "!apt-get update\n",
        "!wget https://developer.download.nvidia.com/compute/cuda/repos/ubuntu1604/x86_64/cuda-repo-ubuntu1604_8.0.61-1_amd64.deb\n",
        "!dpkg -i --force-confnew cuda-repo-ubuntu1604_8.0.61-1_amd64.deb\n",
        "!apt-get update\n",
        "!apt-get install cuda-8-0"
      ],
      "execution_count": 0,
      "outputs": []
    },
    {
      "metadata": {
        "id": "09BFpgNJlRsB",
        "colab_type": "code",
        "colab": {}
      },
      "cell_type": "code",
      "source": [
        "%%capture\n",
        "\n",
        "# Force dpkg to overwrite the configuration file\n",
        "!wget http://archive.ubuntu.com/ubuntu/pool/main/m/mesa/libglx-mesa0_18.0.5-0ubuntu0~18.04.1_amd64.deb\n",
        "!dpkg -i --force-overwrite libglx-mesa0_18.0.5-0ubuntu0~18.04.1_amd64.deb\n",
        "!wget http://developer.download.nvidia.com/compute/cuda/repos/ubuntu1604/x86_64/nvidia-410_410.48-0ubuntu1_amd64.deb\n",
        "!dpkg -i --force-overwrite nvidia-410_410.48-0ubuntu1_amd64.deb\n",
        "!apt --fix-broken install\n",
        "!apt-get install cuda-8-0"
      ],
      "execution_count": 0,
      "outputs": []
    },
    {
      "metadata": {
        "id": "2M7Z7yxLlTP-",
        "colab_type": "code",
        "colab": {}
      },
      "cell_type": "code",
      "source": [
        "%%capture\n",
        "\n",
        "# Install TuriCreate\n",
        "!pip install turicreate\n",
        "\n",
        "# Remove MXNET for CUDA 9, install for CUDA 8\n",
        "!pip uninstall -y mxnet\n",
        "!pip install mxnet-cu80==1.1.0"
      ],
      "execution_count": 0,
      "outputs": []
    },
    {
      "metadata": {
        "id": "eokkHnmYKfcJ",
        "colab_type": "text"
      },
      "cell_type": "markdown",
      "source": [
        "## Create Model"
      ]
    },
    {
      "metadata": {
        "id": "KWuOrlwaPhq1",
        "colab_type": "text"
      },
      "cell_type": "markdown",
      "source": [
        "### Perform Model Training"
      ]
    },
    {
      "metadata": {
        "id": "kh0eU4ycPh_c",
        "colab_type": "code",
        "colab": {}
      },
      "cell_type": "code",
      "source": [
        "import turicreate as tc\n",
        "  \n",
        "# Load training images\n",
        "styles = tc.load_images(style_directory)\n",
        "training = tc.load_images(content_directory)\n",
        "\n",
        "if testing_ratio > 0:\n",
        "  testing, training = training.random_split(testing_ratio)"
      ],
      "execution_count": 0,
      "outputs": []
    },
    {
      "metadata": {
        "id": "hqCuisbnefmP",
        "colab_type": "code",
        "colab": {}
      },
      "cell_type": "code",
      "source": [
        "# Do the actual thing\n",
        "model = tc.style_transfer.create(styles, training, max_iterations=max_iterations)"
      ],
      "execution_count": 0,
      "outputs": []
    },
    {
      "metadata": {
        "id": "5LjTlclKPP07",
        "colab_type": "text"
      },
      "cell_type": "markdown",
      "source": [
        "### Stylize Test Images\n",
        "\n",
        "Creates a new directory at **training/test** and outputs stylized test images as .jpg files."
      ]
    },
    {
      "metadata": {
        "id": "Frd7ggVMPElC",
        "colab_type": "code",
        "colab": {}
      },
      "cell_type": "code",
      "source": [
        "if testing_ratio > 0:\n",
        "  for index, input in enumerate(testing.select_column('image')):\n",
        "    output = model.stylize(input, style=index % styles.num_rows())\n",
        "    output.save(output_directory +'/test-' + str(index) + '.jpg')"
      ],
      "execution_count": 0,
      "outputs": []
    },
    {
      "metadata": {
        "id": "5635n2EbPHmc",
        "colab_type": "text"
      },
      "cell_type": "markdown",
      "source": [
        "### Save and Export Model"
      ]
    },
    {
      "metadata": {
        "id": "mLuzfTD2PG9d",
        "colab_type": "code",
        "colab": {}
      },
      "cell_type": "code",
      "source": [
        "model.save(output_directory +'/' +output_model_name + '.model')\n",
        "model.export_coreml(output_directory +'/' +output_model_name +'.mlmodel')\n",
        "model.export_coreml(output_directory +'/' +output_model_name + '.mlmodel', image_shape=export_shape)"
      ],
      "execution_count": 0,
      "outputs": []
    }
  ]
}